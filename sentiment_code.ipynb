{
  "nbformat": 4,
  "nbformat_minor": 0,
  "metadata": {
    "colab": {
      "provenance": [],
      "include_colab_link": true
    },
    "kernelspec": {
      "name": "python3",
      "display_name": "Python 3"
    },
    "language_info": {
      "name": "python"
    }
  },
  "cells": [
    {
      "cell_type": "markdown",
      "metadata": {
        "id": "view-in-github",
        "colab_type": "text"
      },
      "source": [
        "<a href=\"https://colab.research.google.com/github/smitshah2712/HACKATHON-JAIPUR/blob/main/sentiment_code.ipynb\" target=\"_parent\"><img src=\"https://colab.research.google.com/assets/colab-badge.svg\" alt=\"Open In Colab\"/></a>"
      ]
    },
    {
      "cell_type": "code",
      "execution_count": null,
      "metadata": {
        "id": "wKgEQ8rweje3"
      },
      "outputs": [],
      "source": [
        "import pandas as pd"
      ]
    },
    {
      "cell_type": "code",
      "source": [
        "from google.colab import drive\n",
        "drive.mount('/content/drive')"
      ],
      "metadata": {
        "colab": {
          "base_uri": "https://localhost:8080/"
        },
        "id": "yiB0PuyKicRI",
        "outputId": "a97acffb-9d60-4a7e-ab55-30f831d9e84d"
      },
      "execution_count": 6,
      "outputs": [
        {
          "output_type": "stream",
          "name": "stdout",
          "text": [
            "Drive already mounted at /content/drive; to attempt to forcibly remount, call drive.mount(\"/content/drive\", force_remount=True).\n"
          ]
        }
      ]
    },
    {
      "cell_type": "code",
      "source": [
        "import numpy as  np"
      ],
      "metadata": {
        "id": "WAs2ezFkfH76"
      },
      "execution_count": null,
      "outputs": []
    },
    {
      "cell_type": "code",
      "source": [
        "import os\n",
        "import librosa\n",
        "\n",
        "def review_dataset(dataset_path):\n",
        "    total_files = 0\n",
        "    summary = {}\n",
        "\n",
        "    for actor_folder in sorted(os.listdir(dataset_path)):\n",
        "        actor_path = os.path.join(dataset_path, actor_folder)\n",
        "        if os.path.isdir(actor_path):\n",
        "            file_list = [f for f in os.listdir(actor_path) if f.endswith(\".wav\") or f.endswith(\".mp3\")]\n",
        "            total_files += len(file_list)\n",
        "\n",
        "            durations = []\n",
        "            for file in file_list:\n",
        "                file_path = os.path.join(actor_path, file)\n",
        "                signal, sr = librosa.load(file_path, sr=None)\n",
        "                durations.append(librosa.get_duration(y=signal, sr=sr))\n",
        "\n",
        "            summary[actor_folder] = {\n",
        "                \"file_count\": len(file_list),\n",
        "                \"avg_duration_sec\": round(sum(durations)/len(durations), 2) if durations else 0\n",
        "            }\n",
        "\n",
        "    print(f\"\\n✅ Total Actors: {len(summary)}\")\n",
        "    print(f\"✅ Total Audio Files: {total_files}\\n\")\n",
        "\n",
        "    for actor, stats in summary.items():\n",
        "        print(f\"{actor}: {stats['file_count']} files | Avg Duration: {stats['avg_duration_sec']} sec\")\n",
        "\n",
        "# Run this\n",
        "review_dataset(\"/content/drive/MyDrive/DATASET\")\n"
      ],
      "metadata": {
        "id": "-9QexMixka7o",
        "colab": {
          "base_uri": "https://localhost:8080/"
        },
        "outputId": "def50152-9580-4283-e343-c3d3383b88f0"
      },
      "execution_count": 8,
      "outputs": [
        {
          "output_type": "stream",
          "name": "stdout",
          "text": [
            "\n",
            "✅ Total Actors: 24\n",
            "✅ Total Audio Files: 1441\n",
            "\n",
            "Actor_01: 60 files | Avg Duration: 3.75 sec\n",
            "Actor_02: 60 files | Avg Duration: 3.79 sec\n",
            "Actor_03: 60 files | Avg Duration: 3.76 sec\n",
            "Actor_04: 60 files | Avg Duration: 3.63 sec\n",
            "Actor_05: 60 files | Avg Duration: 3.74 sec\n",
            "Actor_06: 60 files | Avg Duration: 3.79 sec\n",
            "Actor_07: 60 files | Avg Duration: 3.75 sec\n",
            "Actor_08: 60 files | Avg Duration: 3.73 sec\n",
            "Actor_09: 60 files | Avg Duration: 3.49 sec\n",
            "Actor_10: 60 files | Avg Duration: 3.75 sec\n",
            "Actor_11: 60 files | Avg Duration: 3.44 sec\n",
            "Actor_12: 60 files | Avg Duration: 3.75 sec\n",
            "Actor_13: 60 files | Avg Duration: 3.33 sec\n",
            "Actor_14: 60 files | Avg Duration: 3.68 sec\n",
            "Actor_15: 60 files | Avg Duration: 3.5 sec\n",
            "Actor_16: 60 files | Avg Duration: 3.73 sec\n",
            "Actor_17: 60 files | Avg Duration: 3.67 sec\n",
            "Actor_18: 61 files | Avg Duration: 3.75 sec\n",
            "Actor_19: 60 files | Avg Duration: 3.87 sec\n",
            "Actor_20: 60 files | Avg Duration: 3.73 sec\n",
            "Actor_21: 60 files | Avg Duration: 3.92 sec\n",
            "Actor_22: 60 files | Avg Duration: 3.72 sec\n",
            "Actor_23: 60 files | Avg Duration: 3.61 sec\n",
            "Actor_24: 60 files | Avg Duration: 3.95 sec\n"
          ]
        }
      ]
    },
    {
      "cell_type": "code",
      "source": [],
      "metadata": {
        "id": "6GurgsEEqFbs"
      },
      "execution_count": null,
      "outputs": []
    }
  ]
}