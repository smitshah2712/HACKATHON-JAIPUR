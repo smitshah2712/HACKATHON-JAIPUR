{
  "nbformat": 4,
  "nbformat_minor": 0,
  "metadata": {
    "colab": {
      "provenance": [],
      "include_colab_link": true
    },
    "kernelspec": {
      "name": "python3",
      "display_name": "Python 3"
    },
    "language_info": {
      "name": "python"
    }
  },
  "cells": [
    {
      "cell_type": "markdown",
      "metadata": {
        "id": "view-in-github",
        "colab_type": "text"
      },
      "source": [
        "<a href=\"https://colab.research.google.com/github/smitshah2712/HACKATHON-JAIPUR/blob/main/sentiment_code.ipynb\" target=\"_parent\"><img src=\"https://colab.research.google.com/assets/colab-badge.svg\" alt=\"Open In Colab\"/></a>"
      ]
    },
    {
      "cell_type": "code",
      "execution_count": null,
      "metadata": {
        "id": "wKgEQ8rweje3"
      },
      "outputs": [],
      "source": [
        "import pandas as pd"
      ]
    },
    {
      "cell_type": "code",
      "source": [
        "from google.colab import drive\n",
        "drive.mount('/content/drive')"
      ],
      "metadata": {
        "colab": {
          "base_uri": "https://localhost:8080/"
        },
        "id": "yiB0PuyKicRI",
        "outputId": "f998cd3f-40f1-49d9-d44f-5da313a00c1e"
      },
      "execution_count": null,
      "outputs": [
        {
          "output_type": "stream",
          "name": "stdout",
          "text": [
            "Mounted at /content/drive\n"
          ]
        }
      ]
    },
    {
      "cell_type": "code",
      "source": [
        "import numpy as  np"
      ],
      "metadata": {
        "id": "WAs2ezFkfH76"
      },
      "execution_count": null,
      "outputs": []
    },
    {
      "cell_type": "code",
      "source": [
        "import os\n",
        "import librosa\n",
        "\n",
        "# Your dataset path\n",
        "dataset_path = \"/content/drive/MyDrive/DATASET\"\n",
        "\n",
        "# Loop through files\n",
        "for file in os.listdir(dataset_path):\n",
        "    if file.endswith(\".wav\") or file.endswith(\".mp3\"):\n",
        "        file_path = os.path.join(dataset_path, file)\n",
        "\n",
        "        # Load audio\n",
        "        signal, sr = librosa.load(file_path, sr=None)  # sr=None keeps original sample rate\n",
        "\n",
        "        print(f\"Loaded {file} | Signal shape: {signal.shape} | Sample rate: {sr}\")\n",
        "\n"
      ],
      "metadata": {
        "id": "OSi11eDlg7rR"
      },
      "execution_count": null,
      "outputs": []
    },
    {
      "cell_type": "code",
      "source": [],
      "metadata": {
        "id": "-9QexMixka7o"
      },
      "execution_count": null,
      "outputs": []
    }
  ]
}